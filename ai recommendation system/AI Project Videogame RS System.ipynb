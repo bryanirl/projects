{
 "cells": [
  {
   "cell_type": "code",
   "execution_count": 105,
   "id": "1d34b8c2",
   "metadata": {},
   "outputs": [],
   "source": [
    "import pandas as pd\n",
    "import numpy as np\n",
    "import sklearn\n",
    "from sklearn.feature_extraction.text import TfidfVectorizer\n",
    "df = pd.read_csv(\"Video_Games_Sales_as_at_22_Dec_2016.csv\")"
   ]
  },
  {
   "cell_type": "code",
   "execution_count": 106,
   "id": "68f0a985",
   "metadata": {},
   "outputs": [
    {
     "name": "stdout",
     "output_type": "stream",
     "text": [
      "<class 'pandas.core.frame.DataFrame'>\n",
      "RangeIndex: 16719 entries, 0 to 16718\n",
      "Data columns (total 16 columns):\n",
      " #   Column           Non-Null Count  Dtype  \n",
      "---  ------           --------------  -----  \n",
      " 0   Name             16717 non-null  object \n",
      " 1   Platform         16719 non-null  object \n",
      " 2   Year_of_Release  16450 non-null  float64\n",
      " 3   Genre            16717 non-null  object \n",
      " 4   Publisher        16665 non-null  object \n",
      " 5   NA_Sales         16719 non-null  float64\n",
      " 6   EU_Sales         16719 non-null  float64\n",
      " 7   JP_Sales         16719 non-null  float64\n",
      " 8   Other_Sales      16719 non-null  float64\n",
      " 9   Global_Sales     16719 non-null  float64\n",
      " 10  Critic_Score     8137 non-null   float64\n",
      " 11  Critic_Count     8137 non-null   float64\n",
      " 12  User_Score       10015 non-null  object \n",
      " 13  User_Count       7590 non-null   float64\n",
      " 14  Developer        10096 non-null  object \n",
      " 15  Rating           9950 non-null   object \n",
      "dtypes: float64(9), object(7)\n",
      "memory usage: 2.0+ MB\n"
     ]
    }
   ],
   "source": [
    "df.info()"
   ]
  },
  {
   "cell_type": "markdown",
   "id": "6bdc9f17",
   "metadata": {},
   "source": [
    "Cleaning out any entry that does not contain UserScore, Critic Score, Rating, Developer, Global Sales, Genre"
   ]
  },
  {
   "cell_type": "code",
   "execution_count": 107,
   "id": "d6fa6923",
   "metadata": {},
   "outputs": [],
   "source": [
    "dfClean = df.drop(columns = ['NA_Sales','EU_Sales','JP_Sales','Other_Sales','Global_Sales','Critic_Score','Critic_Count','User_Score','User_Count'])"
   ]
  },
  {
   "cell_type": "code",
   "execution_count": 108,
   "id": "e0f19469",
   "metadata": {},
   "outputs": [
    {
     "name": "stdout",
     "output_type": "stream",
     "text": [
      "<class 'pandas.core.frame.DataFrame'>\n",
      "RangeIndex: 16719 entries, 0 to 16718\n",
      "Data columns (total 7 columns):\n",
      " #   Column           Non-Null Count  Dtype  \n",
      "---  ------           --------------  -----  \n",
      " 0   Name             16717 non-null  object \n",
      " 1   Platform         16719 non-null  object \n",
      " 2   Year_of_Release  16450 non-null  float64\n",
      " 3   Genre            16717 non-null  object \n",
      " 4   Publisher        16665 non-null  object \n",
      " 5   Developer        10096 non-null  object \n",
      " 6   Rating           9950 non-null   object \n",
      "dtypes: float64(1), object(6)\n",
      "memory usage: 914.4+ KB\n"
     ]
    }
   ],
   "source": [
    "dfClean.info()"
   ]
  },
  {
   "cell_type": "code",
   "execution_count": 112,
   "id": "f4072606",
   "metadata": {},
   "outputs": [
    {
     "name": "stdout",
     "output_type": "stream",
     "text": [
      "[array([[0.67940493]])]\n"
     ]
    }
   ],
   "source": [
    "import os\n",
    "import sklearn\n",
    "from sklearn.feature_extraction.text import TfidfVectorizer\n",
    "from sklearn.metrics.pairwise import cosine_similarity\n",
    "import csv\n",
    "\n",
    "ques = []\n",
    "#example data\n",
    "str1 = 'New Super Mario Bros. Wii, 2009,Platform,Nintendo,Nintendo,E'\n",
    "str2 = 'Super Mario Bros.,NES,1985, Platform,Nintendo,Nintendo,E'\n",
    "\n",
    "#reading in the dataset\n",
    "with open('VG Clean.csv') as csvfile:\n",
    "    csvReader = csv.reader(csvfile)\n",
    "    for row in csvReader:\n",
    "        ques.append(','.join(row))        \n",
    "vect = TfidfVectorizer()\n",
    "# Fit the your whole dataset. After all, this'll\n",
    "# produce the vectors which is based on words in corpus/dataset\n",
    "vect.fit(ques)\n",
    "\n",
    "#putting in str1 and str2 as preparation to transform into vectors\n",
    "corpus = [str1,str2]\n",
    "trans = vect.transform(corpus)\n",
    "  \n",
    "#cos can hold n vectors representing the distance between the user input and the nth entry of the dataset\n",
    "cos = []\n",
    "#compare the two vectors to find their similarity, if they are completely different, score will be 0\n",
    "#if they are the same game, score will be 1\n",
    "#if they are similar, score will be closer to 1 than 0\n",
    "cos.append(cosine_similarity(trans[0],trans[1]))\n",
    "print(cos)\n",
    "\n",
    "#scale this up to somehow turn str2 into the whole dataset [create an array of all games and their cosine distances]\n",
    "#and compare the 17k vectors to str 1 and find the best matches to recommend"
   ]
  },
  {
   "cell_type": "code",
   "execution_count": null,
   "id": "8673ca08",
   "metadata": {},
   "outputs": [],
   "source": []
  },
  {
   "cell_type": "code",
   "execution_count": null,
   "id": "0cb6c4de",
   "metadata": {},
   "outputs": [],
   "source": []
  }
 ],
 "metadata": {
  "kernelspec": {
   "display_name": "Python 3 (ipykernel)",
   "language": "python",
   "name": "python3"
  },
  "language_info": {
   "codemirror_mode": {
    "name": "ipython",
    "version": 3
   },
   "file_extension": ".py",
   "mimetype": "text/x-python",
   "name": "python",
   "nbconvert_exporter": "python",
   "pygments_lexer": "ipython3",
   "version": "3.9.7"
  }
 },
 "nbformat": 4,
 "nbformat_minor": 5
}
